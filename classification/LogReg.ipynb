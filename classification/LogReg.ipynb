{
  "cells": [
    {
      "cell_type": "markdown",
      "metadata": {
        "id": "pl4JceXa6IQp"
      },
      "source": [
        "L2-regularized logistic regression for binary or multiclass classification; trains a model (on `train.txt`), optimizes L2 regularization strength on `dev.txt`, and evaluates performance on `test.txt`.  Reports test accuracy with 95% confidence intervals and prints out the strongest coefficients for each class."
      ]
    },
    {
      "cell_type": "code",
      "execution_count": 1,
      "metadata": {
        "id": "TQTT9x-6d2JI"
      },
      "outputs": [],
      "source": [
        "from scipy import sparse\n",
        "from sklearn import linear_model\n",
        "from collections import Counter, defaultdict\n",
        "import numpy as np\n",
        "import operator\n",
        "import nltk\n",
        "import math\n",
        "from scipy.stats import norm"
      ]
    },
    {
      "cell_type": "code",
      "source": [
        "from google.colab import drive\n",
        "drive.mount('/content/drive')"
      ],
      "metadata": {
        "colab": {
          "base_uri": "https://localhost:8080/"
        },
        "id": "mu-AgJaY6hwB",
        "outputId": "76f14635-11b2-4de2-9fb5-86d4aadcdde7"
      },
      "execution_count": 2,
      "outputs": [
        {
          "output_type": "stream",
          "name": "stdout",
          "text": [
            "Mounted at /content/drive\n"
          ]
        }
      ]
    },
    {
      "cell_type": "code",
      "execution_count": 3,
      "metadata": {
        "colab": {
          "base_uri": "https://localhost:8080/"
        },
        "id": "e4KuVSCSqlUX",
        "outputId": "c12ae568-0b9d-457b-e01d-5cb3392d0a9f",
        "scrolled": true
      },
      "outputs": [
        {
          "output_type": "stream",
          "name": "stdout",
          "text": [
            "/usr/lib/python3.10/runpy.py:126: RuntimeWarning: 'nltk.downloader' found in sys.modules after import of package 'nltk', but prior to execution of 'nltk.downloader'; this may result in unpredictable behaviour\n",
            "  warn(RuntimeWarning(msg))\n",
            "[nltk_data] Downloading package punkt to /root/nltk_data...\n",
            "[nltk_data]   Unzipping tokenizers/punkt.zip.\n"
          ]
        }
      ],
      "source": [
        "!python -m nltk.downloader punkt"
      ]
    },
    {
      "cell_type": "code",
      "execution_count": 4,
      "metadata": {
        "id": "ztxRjp_H6IQv"
      },
      "outputs": [],
      "source": [
        "def load_data(filename):\n",
        "    X = []\n",
        "    Y = []\n",
        "    with open(filename, encoding=\"utf-8\") as file:\n",
        "        for line in file:\n",
        "            cols = line.split(\"\\t\")\n",
        "            idd = cols[0]\n",
        "            label = cols[2].lstrip().rstrip()\n",
        "            text = cols[3]\n",
        "\n",
        "            X.append(text)\n",
        "            Y.append(label)\n",
        "\n",
        "    return X, Y\n"
      ]
    },
    {
      "cell_type": "code",
      "execution_count": 51,
      "metadata": {
        "id": "CGiM8qQiJOBU"
      },
      "outputs": [],
      "source": [
        "class Classifier:\n",
        "\n",
        "    def __init__(self, feature_method, trainX, trainY, devX, devY, testX, testY,min_feature = 2, training_iter = 1000):\n",
        "        self.feature_vocab = {}\n",
        "        self.feature_method = feature_method\n",
        "        self.min_feature_count=min_feature\n",
        "        self.log_reg = None\n",
        "        self.train_iter = training_iter\n",
        "\n",
        "        self.trainY=trainY\n",
        "        self.devY=devY\n",
        "        self.testY=testY\n",
        "        \n",
        "        self.trainX = self.process(trainX, training=True)\n",
        "        self.devX = self.process(devX, training=False)\n",
        "        self.testX = self.process(testX, training=False)\n",
        "\n",
        "    # Featurize entire dataset\n",
        "    def featurize(self, data):\n",
        "        featurized_data = []\n",
        "        for text in data:\n",
        "            feats = self.feature_method(text)\n",
        "            featurized_data.append(feats)\n",
        "        return featurized_data\n",
        "\n",
        "    # Read dataset and returned featurized representation as sparse matrix + label array\n",
        "    def process(self, X_data, training = False):\n",
        "        \n",
        "        data = self.featurize(X_data)\n",
        "\n",
        "        if training:\n",
        "            fid = 0\n",
        "            feature_doc_count = Counter()\n",
        "            for feats in data:\n",
        "                for feat in feats:\n",
        "                    feature_doc_count[feat]+= 1\n",
        "\n",
        "            for feat in feature_doc_count:\n",
        "                if feature_doc_count[feat] >= self.min_feature_count:\n",
        "                    self.feature_vocab[feat] = fid\n",
        "                    fid += 1\n",
        "\n",
        "        F = len(self.feature_vocab)\n",
        "        D = len(data)\n",
        "        X = sparse.dok_matrix((D, F))\n",
        "        for idx, feats in enumerate(data):\n",
        "            for feat in feats:\n",
        "                if feat in self.feature_vocab:\n",
        "                    X[idx, self.feature_vocab[feat]] = feats[feat]\n",
        "\n",
        "        return X\n",
        "\n",
        "\n",
        "    # Train model and evaluate on held-out data\n",
        "    def train(self):\n",
        "        (D,F) = self.trainX.shape\n",
        "        print(\"Number of features: {}\".format(F))\n",
        "        best_dev_accuracy=0\n",
        "        best_model=None\n",
        "        for C in [0.1, 1, 10, 100]:\n",
        "            self.log_reg = linear_model.LogisticRegression(C = C, max_iter=self.train_iter)\n",
        "            self.log_reg.fit(self.trainX, self.trainY)\n",
        "            training_accuracy = self.log_reg.score(self.trainX, self.trainY)\n",
        "            development_accuracy = self.log_reg.score(self.devX, self.devY)\n",
        "            if development_accuracy > best_dev_accuracy:\n",
        "                best_dev_accuracy=development_accuracy\n",
        "                best_model=self.log_reg\n",
        "\n",
        "            print(\"C: %s, Train accuracy: %.3f, Dev accuracy: %.3f\" % (C, training_accuracy, development_accuracy))\n",
        "\n",
        "        self.log_reg=best_model\n",
        "        \n",
        "\n",
        "    def test(self):\n",
        "        return self.log_reg.score(self.testX, self.testY)\n",
        "        \n",
        "\n",
        "    def printWeights(self, n=10):\n",
        "\n",
        "        reverse_vocab=[None]*len(self.log_reg.coef_[0])\n",
        "        for k in self.feature_vocab:\n",
        "            reverse_vocab[self.feature_vocab[k]]=k\n",
        "\n",
        "        # binary\n",
        "        if len(self.log_reg.classes_) == 2:\n",
        "              weights=self.log_reg.coef_[0]\n",
        "\n",
        "              cat=self.log_reg.classes_[1]\n",
        "              for feature, weight in list(reversed(sorted(zip(reverse_vocab, weights), key = operator.itemgetter(1))))[:n]:\n",
        "                  print(\"%s\\t%.3f\\t%s\" % (cat, weight, feature))\n",
        "              print()\n",
        "\n",
        "              cat=self.log_reg.classes_[0]\n",
        "              for feature, weight in list(sorted(zip(reverse_vocab, weights), key = operator.itemgetter(1)))[:n]:\n",
        "                  print(\"%s\\t%.3f\\t%s\" % (cat, weight, feature))\n",
        "              print()\n",
        "\n",
        "        # multiclass\n",
        "        else:\n",
        "          for i, cat in enumerate(self.log_reg.classes_):\n",
        "\n",
        "              weights=self.log_reg.coef_[i]\n",
        "\n",
        "              for feature, weight in list(reversed(sorted(zip(reverse_vocab, weights), key = operator.itemgetter(1))))[:n]:\n",
        "                  print(\"%s\\t%.3f\\t%s\" % (cat, weight, feature))\n",
        "              print()\n",
        "\n",
        "            "
      ]
    },
    {
      "cell_type": "code",
      "execution_count": 18,
      "metadata": {
        "id": "ctywRmHT6IQx"
      },
      "outputs": [],
      "source": [
        "def binary_bow_featurize(text):\n",
        "    feats = {}\n",
        "    words = nltk.word_tokenize(text)\n",
        "\n",
        "    for word in words:\n",
        "        word=word.lower()\n",
        "        feats[word]=1\n",
        "            \n",
        "    return feats\n",
        "\n"
      ]
    },
    {
      "cell_type": "code",
      "source": [
        "trainX, trainY=load_data(\"/content/drive/MyDrive/INFO 159/train.txt\")\n",
        "s = trainX[0]\n",
        "print(s)\n",
        "# The pattern to match any text enclosed in double quotes\n",
        "pattern = r'(?:[\"\\'])+(.*?)(?:[\"\\'])+'\n",
        "pattern1 = r'#(.*?)<<NEWL>>'\n",
        "\n",
        "import re \n",
        "# Using re.findall() to find all matching segments\n",
        "quoted_segments = re.findall(pattern, s)\n",
        "print(quoted_segments)"
      ],
      "metadata": {
        "colab": {
          "base_uri": "https://localhost:8080/"
        },
        "id": "xJ9YGGm28jiX",
        "outputId": "c48a5c28-f3b7-4a89-9eaa-b25399d587f4"
      },
      "execution_count": 19,
      "outputs": [
        {
          "output_type": "stream",
          "name": "stdout",
          "text": [
            "\"\"\"\"\"\"\"A simple log mechanism styled after PEP 282.\"\"\"\"\"\"<<NEWL>><<NEWL>># The class here is styled after PEP 282 so that it could later be<<NEWL>># replaced with a standard Python logging implementation.<<NEWL>><<NEWL>>import sys<<NEWL>><<NEWL>>DEBUG = 1<<NEWL>>INFO = 2<<NEWL>>WARN = 3<<NEWL>>ERROR = 4<<NEWL>>FATAL = 5<<NEWL>><<NEWL>><<NEWL>>class Log:<<NEWL>>    def __init__(self, threshold=WARN):<<NEWL>>        self.threshold = threshold<<NEWL>><<NEWL>>    def _log(self, level, msg, args):<<NEWL>>        if level not in (DEBUG, INFO, WARN, ERROR, FATAL):<<NEWL>>            raise ValueError('%s wrong log level' % str(level))<<NEWL>><<NEWL>>        if level >= self.threshold:<<NEWL>>            if args:<<NEWL>>                msg = msg % args<<NEWL>>            if level in (WARN, ERROR, FATAL):<<NEWL>>                stream = sys.stderr<<NEWL>>            else:<<NEWL>>                stream = sys.stdout<<NEWL>>            try:<<NEWL>>                stream.write('%s\\n' % msg)<<NEWL>>            except UnicodeEncodeError:<<NEWL>>                # emulate backslashreplace error handler<<NEWL>>                encoding = stream.encoding<<NEWL>>                msg = msg.encode(encoding, \"\"backslashreplace\"\").decode(encoding)<<NEWL>>                stream.write('%s\\n' % msg)<<NEWL>>            stream.flush()<<NEWL>><<NEWL>>    def log(self, level, msg, *args):<<NEWL>>        self._log(level, msg, args)<<NEWL>><<NEWL>>    def debug(self, msg, *args):<<NEWL>>        self._log(DEBUG, msg, args)<<NEWL>><<NEWL>>    def info(self, msg, *args):<<NEWL>>        self._log(INFO, msg, args)<<NEWL>><<NEWL>>    def warn(self, msg, *args):<<NEWL>>        self._log(WARN, msg, args)<<NEWL>><<NEWL>>    def error(self, msg, *args):<<NEWL>>        self._log(ERROR, msg, args)<<NEWL>><<NEWL>>    def fatal(self, msg, *args):<<NEWL>>        self._log(FATAL, msg, args)<<NEWL>><<NEWL>><<NEWL>>_global_log = Log()<<NEWL>>log = _global_log.log<<NEWL>>debug = _global_log.debug<<NEWL>>info = _global_log.info<<NEWL>>warn = _global_log.warn<<NEWL>>error = _global_log.error<<NEWL>>fatal = _global_log.fatal<<NEWL>><<NEWL>><<NEWL>>def set_threshold(level):<<NEWL>>    # return the old threshold for use from tests<<NEWL>>    old = _global_log.threshold<<NEWL>>    _global_log.threshold = level<<NEWL>>    return old<<NEWL>><<NEWL>><<NEWL>>def set_verbosity(v):<<NEWL>>    if v <= 0:<<NEWL>>        set_threshold(WARN)<<NEWL>>    elif v == 1:<<NEWL>>        set_threshold(INFO)<<NEWL>>    elif v >= 2:<<NEWL>>        set_threshold(DEBUG)\"\n",
            "\n",
            "['A simple log mechanism styled after PEP 282.', '%s wrong log level', '%s\\\\n', 'backslashreplace', '%s\\\\n']\n"
          ]
        }
      ]
    },
    {
      "cell_type": "code",
      "source": [
        "def binary_bow_featurize(text):\n",
        "    feats = {}\n",
        "    words = nltk.word_tokenize(text)\n",
        "\n",
        "    for word in words:\n",
        "        word=word.lower()\n",
        "        feats[word]=1\n",
        "            \n",
        "    return feats"
      ],
      "metadata": {
        "id": "SAFq4tkKjWlu"
      },
      "execution_count": 44,
      "outputs": []
    },
    {
      "cell_type": "code",
      "source": [
        "def manual_feature(text):\n",
        "  \"\"\"\n",
        "  The input is a string of arbitrary length\n",
        "  \"\"\"\n",
        "  #bag of words feature\n",
        "  feats = defaultdict(int)\n",
        "  words = nltk.word_tokenize(text)\n",
        "  for word in set(words):\n",
        "    word=word.lower()\n",
        "    feats[word]=1\n",
        "\n",
        "  target = {\"'\",\"''\",\"#\"}\n",
        "  #count the number of comments \n",
        "  for word in words:\n",
        "    if word in target:\n",
        "      feats[\"contains info\"] += 1\n",
        "  feats[\"contains info\"]/=len(text)\n",
        "  import re \n",
        "  pattern_string = r'(?:\")+(.*?)(?:\")+'\n",
        "  #find all strings between double quotes and single quotes\n",
        "  quoted_segments = re.findall(pattern_string, text)\n",
        "  feats[\"amount of docstrings\"] = sum([len(s) for s in quoted_segments])/len(text)\n",
        "\n",
        "  pattern_comment = r'#(.*?)<<NEWL>>'\n",
        "  #find all comments\n",
        "  quoted_segments = re.findall(pattern_comment, text)\n",
        "  feats[\"amount of comments\"] = sum([len(s) for s in quoted_segments])/len(text)\n",
        "\n",
        "\n",
        "\n",
        "  return feats\n",
        "\n"
      ],
      "metadata": {
        "id": "8rXBEkbn66ve"
      },
      "execution_count": 78,
      "outputs": []
    },
    {
      "cell_type": "code",
      "execution_count": 67,
      "metadata": {
        "id": "H9Cbb2ZQ6IQx"
      },
      "outputs": [],
      "source": [
        "def confidence_intervals(accuracy, n, significance_level):\n",
        "    critical_value=(1-significance_level)/2\n",
        "    z_alpha=-1*norm.ppf(critical_value)\n",
        "    se=math.sqrt((accuracy*(1-accuracy))/n)\n",
        "    return accuracy-(se*z_alpha), accuracy+(se*z_alpha)"
      ]
    },
    {
      "cell_type": "code",
      "execution_count": 68,
      "metadata": {
        "id": "Z7oKISn96IQy"
      },
      "outputs": [],
      "source": [
        "def run(trainingFile, devFile, testFile, featurization_funciton, feature_count=2, training_iter = 1000):\n",
        "    trainX, trainY=load_data(trainingFile)\n",
        "    devX, devY=load_data(devFile)\n",
        "    testX, testY=load_data(testFile)\n",
        "    \n",
        "    simple_classifier = Classifier(featurization_funciton, trainX, trainY, devX, devY, testX, testY,feature_count, training_iter)\n",
        "    simple_classifier.train()\n",
        "    accuracy=simple_classifier.test()\n",
        "    \n",
        "    lower, upper=confidence_intervals(accuracy, len(testY), .95)\n",
        "    print(\"Test accuracy for best dev model: %.3f, 95%% CIs: [%.3f %.3f]\\n\" % (accuracy, lower, upper))\n",
        "\n",
        "    simple_classifier.printWeights()\n",
        "    return simple_classifier\n",
        "    \n"
      ]
    },
    {
      "cell_type": "code",
      "execution_count": 74,
      "metadata": {
        "colab": {
          "base_uri": "https://localhost:8080/"
        },
        "id": "lLp8Sq1l6IQy",
        "outputId": "e75ee0e4-27ea-44ce-9dbd-d2df4a8a02ea"
      },
      "outputs": [
        {
          "output_type": "stream",
          "name": "stdout",
          "text": [
            "Number of features: 2923\n",
            "C: 0.1, Train accuracy: 0.973, Dev accuracy: 0.620\n",
            "C: 1, Train accuracy: 0.990, Dev accuracy: 0.610\n",
            "C: 10, Train accuracy: 0.990, Dev accuracy: 0.610\n",
            "C: 100, Train accuracy: 0.990, Dev accuracy: 0.620\n",
            "Test accuracy for best dev model: 0.520, 95% CIs: [0.422 0.618]\n",
            "\n",
            "0\t0.191\t__init__\n",
            "0\t0.141\t==\n",
            "0\t0.124\tbucket\n",
            "0\t0.119\tunder\n",
            "0\t0.113\tmit\n",
            "0\t0.113\t@\n",
            "0\t0.109\tversion\n",
            "0\t0.106\tlicense\n",
            "0\t0.102\tlicensed\n",
            "0\t0.102\tnotice\n",
            "\n",
            "1\t0.254\tas\n",
            "1\t0.190\t#\n",
            "1\t0.172\tclass\n",
            "1\t0.165\twith\n",
            "1\t0.164\thandle\n",
            "1\t0.158\t+=\n",
            "1\t0.158\tsys\n",
            "1\t0.155\t200\n",
            "1\t0.143\tso\n",
            "1\t0.133\tpytest.mark.parametrize\n",
            "\n",
            "2\t0.256\tone\n",
            "2\t0.244\t.\n",
            "2\t0.212\tother\n",
            "2\t0.212\tis\n",
            "2\t0.201\tisinstance\n",
            "2\t0.183\tos\n",
            "2\t0.163\tr\n",
            "2\t0.154\t2022\n",
            "2\t0.152\tstring\n",
            "2\t0.142\tos.path.join\n",
            "\n",
            "3\t0.245\tor\n",
            "3\t0.228\tto\n",
            "3\t0.210\tspecified\n",
            "3\t0.196\tof\n",
            "3\t0.192\ta\n",
            "3\t0.191\tgiven\n",
            "3\t0.188\tare\n",
            "3\t0.182\tbool\n",
            "3\t0.174\t#\n",
            "3\t0.170\tall\n",
            "\n",
            "4\t0.336\thttps\n",
            "4\t0.256\t`\n",
            "4\t0.181\treturns\n",
            "4\t0.179\tpython\n",
            "4\t0.172\t'\n",
            "4\t0.164\tuse\n",
            "4\t0.164\tmethod\n",
            "4\t0.162\tvalue\n",
            "4\t0.159\tto\n",
            "4\t0.148\texamples\n",
            "\n"
          ]
        }
      ],
      "source": [
        "trainingFile = \"/content/drive/MyDrive/INFO 159/train.txt\"\n",
        "devFile = \"/content/drive/MyDrive/INFO 159/dev.txt\"\n",
        "testFile = \"/content/drive/MyDrive/INFO 159/test.txt\"\n",
        "  \n",
        "classifier = run(trainingFile, devFile, testFile,binary_bow_featurize, 2,1000)\n"
      ]
    },
    {
      "cell_type": "code",
      "execution_count": 40,
      "metadata": {
        "colab": {
          "base_uri": "https://localhost:8080/",
          "height": 503
        },
        "id": "q22QJRN26IQz",
        "outputId": "b23328fc-93a5-4e8c-968f-cdec589a5a12"
      },
      "outputs": [
        {
          "output_type": "display_data",
          "data": {
            "text/plain": [
              "<Figure size 640x480 with 2 Axes>"
            ],
            "image/png": "[encoded data removed]"
          },
          "metadata": {}
        }
      ],
      "source": [
        "from sklearn.metrics import confusion_matrix\n",
        "import matplotlib.pyplot as plt\n",
        "def plot(classifier):\n",
        "  labels = classifier.testY  # Get unique labels from y_test\n",
        "  predictions = classifier.log_reg.predict(classifier.testX)\n",
        "\n",
        "  # Calculate confusion matrix\n",
        "  cm = confusion_matrix(labels, predictions, labels=np.unique(labels))  # Calculate confusion matrix\n",
        "\n",
        "  # Draw confusion matrix\n",
        "  fig, ax = plt.subplots()\n",
        "  im = ax.imshow(cm, interpolation='nearest', cmap=plt.cm.Blues)\n",
        "  ax.figure.colorbar(im, ax=ax)\n",
        "  ax.set(xticks=np.arange(cm.shape[1]),\n",
        "        yticks=np.arange(cm.shape[0]),\n",
        "        xticklabels=np.unique(labels), yticklabels=np.unique(labels),\n",
        "        xlabel='Predicted label',\n",
        "        ylabel='True label')\n",
        "\n",
        "  # Rotate the tick labels and set their alignment.\n",
        "  plt.setp(ax.get_xticklabels(), rotation=45, ha=\"right\",\n",
        "          rotation_mode=\"anchor\")\n",
        "\n",
        "  # Loop over data dimensions and create text annotations.\n",
        "  fmt = 'd' # format\n",
        "  thresh = cm.max() / 2.\n",
        "  for i in range(cm.shape[0]):\n",
        "      for j in range(cm.shape[1]):\n",
        "          ax.text(j, i, format(cm[i, j], fmt),\n",
        "                  ha=\"center\", va=\"center\",\n",
        "                  color=\"white\" if cm[i, j] > thresh else \"black\")\n",
        "\n",
        "  fig.tight_layout()\n",
        "  plt.title(\"Default implementation\")\n",
        "  plt.show()\n",
        "\n",
        "plot(classifier)"
      ]
    },
    {
      "cell_type": "code",
      "execution_count": 79,
      "metadata": {
        "colab": {
          "base_uri": "https://localhost:8080/"
        },
        "id": "mI8Ap3dS6IQz",
        "outputId": "933e2092-b317-49f5-8b5e-a92ab60dc567"
      },
      "outputs": [
        {
          "output_type": "stream",
          "name": "stdout",
          "text": [
            "Number of features: 234\n",
            "C: 0.1, Train accuracy: 0.867, Dev accuracy: 0.600\n",
            "C: 1, Train accuracy: 0.970, Dev accuracy: 0.570\n",
            "C: 10, Train accuracy: 0.980, Dev accuracy: 0.580\n",
            "C: 100, Train accuracy: 0.980, Dev accuracy: 0.590\n",
            "Test accuracy for best dev model: 0.540, 95% CIs: [0.442 0.638]\n",
            "\n",
            "0\t0.275\t__init__\n",
            "0\t0.202\tunder\n",
            "0\t0.189\tversion\n",
            "0\t0.186\tamount of docstrings\n",
            "0\t0.168\tmore\n",
            "0\t0.162\t==\n",
            "0\t0.158\tlicensed\n",
            "0\t0.154\t!\n",
            "0\t0.140\twithout\n",
            "0\t0.134\tdata\n",
            "\n",
            "1\t0.329\tas\n",
            "1\t0.282\twith\n",
            "1\t0.260\t#\n",
            "1\t0.242\ts\n",
            "1\t0.236\t+=\n",
            "1\t0.233\tsys\n",
            "1\t0.224\tclass\n",
            "1\t0.218\tvalueerror\n",
            "1\t0.196\tso\n",
            "1\t0.182\tby\n",
            "\n",
            "2\t0.363\tone\n",
            "2\t0.332\t.\n",
            "2\t0.330\tisinstance\n",
            "2\t0.303\tis\n",
            "2\t0.272\tos\n",
            "2\t0.262\tr\n",
            "2\t0.213\tstring\n",
            "2\t0.185\tprint\n",
            "2\t0.179\tobject\n",
            "2\t0.170\tlist\n",
            "\n",
            "3\t0.319\tor\n",
            "3\t0.301\tof\n",
            "3\t0.299\ta\n",
            "3\t0.298\tare\n",
            "3\t0.296\tname\n",
            "3\t0.283\tto\n",
            "3\t0.271\tso\n",
            "3\t0.269\t#\n",
            "3\t0.266\twhich\n",
            "3\t0.262\tpath\n",
            "\n",
            "4\t0.537\thttps\n",
            "4\t0.394\t`\n",
            "4\t0.301\tuse\n",
            "4\t0.294\t'\n",
            "4\t0.291\tpython\n",
            "4\t0.289\tvalue\n",
            "4\t0.235\t1\n",
            "4\t0.223\tthis\n",
            "4\t0.221\tat\n",
            "4\t0.220\tto\n",
            "\n"
          ]
        }
      ],
      "source": [
        "classifier = run(trainingFile, devFile, testFile,manual_feature, 20, 2000)\n"
      ]
    },
    {
      "cell_type": "code",
      "source": [
        "plot(classifier)"
      ],
      "metadata": {
        "colab": {
          "base_uri": "https://localhost:8080/",
          "height": 487
        },
        "id": "mimQ8WKvj62H",
        "outputId": "9742c3e8-01da-4afc-fb65-322457551cfb"
      },
      "execution_count": 16,
      "outputs": [
        {
          "output_type": "display_data",
          "data": {
            "text/plain": [
              "<Figure size 640x480 with 2 Axes>"
            ],
            "image/png": "[encoded data removed]"
          },
          "metadata": {}
        }
      ]
    }
  ],
  "metadata": {
    "colab": {
      "provenance": []
    },
    "kernelspec": {
      "display_name": "Python 3 (ipykernel)",
      "language": "python",
      "name": "python3"
    },
    "language_info": {
      "codemirror_mode": {
        "name": "ipython",
        "version": 3
      },
      "file_extension": ".py",
      "mimetype": "text/x-python",
      "name": "python",
      "nbconvert_exporter": "python",
      "pygments_lexer": "ipython3",
      "version": "3.8.3"
    }
  },
  "nbformat": 4,
  "nbformat_minor": 0
}