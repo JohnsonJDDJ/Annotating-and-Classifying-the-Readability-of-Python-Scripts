{
 "cells": [
  {
   "attachments": {},
   "cell_type": "markdown",
   "metadata": {},
   "source": [
    "# Rename ALL crawled files with random index"
   ]
  },
  {
   "cell_type": "code",
   "execution_count": 15,
   "metadata": {},
   "outputs": [],
   "source": [
    "import random\n",
    "\n",
    "random_filenames = random.sample(list(range(1, 1001)), 1000)\n",
    "random_filenames = [str(i).zfill(4) for i in random_filenames]"
   ]
  },
  {
   "cell_type": "code",
   "execution_count": 13,
   "metadata": {},
   "outputs": [
    {
     "ename": "IndexError",
     "evalue": "list index out of range",
     "output_type": "error",
     "traceback": [
      "\u001b[0;31m---------------------------------------------------------------------------\u001b[0m",
      "\u001b[0;31mIndexError\u001b[0m                                Traceback (most recent call last)",
      "Cell \u001b[0;32mIn[13], line 8\u001b[0m\n\u001b[1;32m      6\u001b[0m \u001b[39mfor\u001b[39;00m filename \u001b[39min\u001b[39;00m os\u001b[39m.\u001b[39mlistdir(folder_path):\n\u001b[1;32m      7\u001b[0m     \u001b[39mif\u001b[39;00m os\u001b[39m.\u001b[39mpath\u001b[39m.\u001b[39misfile(os\u001b[39m.\u001b[39mpath\u001b[39m.\u001b[39mjoin(folder_path, filename)):\n\u001b[0;32m----> 8\u001b[0m         new_filename \u001b[39m=\u001b[39m random_filenames[index] \u001b[39m+\u001b[39m \u001b[39m'\u001b[39m\u001b[39m.py\u001b[39m\u001b[39m'\u001b[39m\n\u001b[1;32m      9\u001b[0m         index \u001b[39m+\u001b[39m\u001b[39m=\u001b[39m \u001b[39m1\u001b[39m\n\u001b[1;32m     10\u001b[0m         os\u001b[39m.\u001b[39mrename(os\u001b[39m.\u001b[39mpath\u001b[39m.\u001b[39mjoin(folder_path, filename), os\u001b[39m.\u001b[39mpath\u001b[39m.\u001b[39mjoin(folder_path, new_filename))\n",
      "\u001b[0;31mIndexError\u001b[0m: list index out of range"
     ]
    }
   ],
   "source": [
    "import os\n",
    "\n",
    "folder_path = './data/raw_data/'\n",
    "\n",
    "index = 0\n",
    "for filename in os.listdir(folder_path):\n",
    "    if os.path.isfile(os.path.join(folder_path, filename)):\n",
    "        new_filename = random_filenames[index] + '.py'\n",
    "        index += 1\n",
    "        os.rename(os.path.join(folder_path, filename), os.path.join(folder_path, new_filename))\n"
   ]
  },
  {
   "attachments": {},
   "cell_type": "markdown",
   "metadata": {},
   "source": [
    "# Load in all data and make a .tsv file"
   ]
  },
  {
   "cell_type": "code",
   "execution_count": 18,
   "metadata": {},
   "outputs": [],
   "source": [
    "import os\n",
    "import csv\n",
    "\n",
    "data_folder_path = './data/raw_data/'\n",
    "tsv_path = './data/dirty_data.tsv'\n",
    "table = []\n",
    "\n",
    "for filename in os.listdir(data_folder_path):\n",
    "    if os.path.isfile(os.path.join(data_folder_path, filename)):\n",
    "        entry = {}\n",
    "        file_id = filename.split(\"-\")[0]\n",
    "        with open(data_folder_path + filename, \"r\") as f:\n",
    "            content = f.read()\n",
    "        entry = {\n",
    "            \"id\" : file_id,\n",
    "            \"filename\" : filename,\n",
    "            \"content\" : content\n",
    "        }\n",
    "        table.append(entry)\n",
    "\n",
    "fieldnames = table[0].keys()\n",
    "with open(tsv_path, 'w', newline='') as f:\n",
    "    writer = csv.DictWriter(f, delimiter='\\t', fieldnames=fieldnames)\n",
    "    writer.writeheader()\n",
    "    writer.writerows(table)"
   ]
  },
  {
   "attachments": {},
   "cell_type": "markdown",
   "metadata": {},
   "source": [
    "## Read back the data to test implementation"
   ]
  },
  {
   "cell_type": "code",
   "execution_count": 23,
   "metadata": {},
   "outputs": [
    {
     "name": "stdout",
     "output_type": "stream",
     "text": [
      "['JY321', 'JY321-rstu_api_test.py', 'import pytest\\nimport pytest_asyncio\\n\\nfrom rtsu_students_bot.rtsu import RTSUApi\\n\\npytest_plugins = (\\'pytest_asyncio\\',)\\n\\nTEST_DATA = {\\n    \"login\": \"your login\",\\n    \"password\": \"your pass\",\\n}\\n\\n\\n@pytest_asyncio.fixture()\\nasync def rtsu_client():\\n    \"\"\"\\n    Initializes client\\n    :return: Prepared `RTSUApi` client\\n    \"\"\"\\n\\n    async with RTSUApi() as api:\\n        yield api\\n\\n\\n@pytest.mark.asyncio\\nasync def test_rtsu_login(rtsu_client: RTSUApi):\\n    \"\"\"\\n    Tests rtsu login\\n    :param rtsu_client: A RTSU API client\\n    :return:\\n    \"\"\"\\n\\n    resp = await rtsu_client.auth(TEST_DATA.get(\"login\"), TEST_DATA.get(\"password\"))\\n\\n    assert resp.token is not None\\n\\n\\n@pytest.mark.asyncio\\nasync def test_rtsu_profile_fetching(rtsu_client: RTSUApi):\\n    \"\"\"\\n    Tests rtsu profile fetching\\n    :param rtsu_client:\\n    :return:\\n    \"\"\"\\n\\n    await rtsu_client.auth(TEST_DATA.get(\"login\"), TEST_DATA.get(\"password\"))\\n\\n    profile = await rtsu_client.get_profile()\\n\\n    assert profile is not None\\n    assert profile.full_name is not None\\n\\n\\n@pytest.mark.asyncio\\nasync def test_rtsu_academic_years_fetching(rtsu_client: RTSUApi):\\n    \"\"\"\\n    Tests rtsu academic years fetching\\n    :param rtsu_client:\\n    :return:\\n    \"\"\"\\n\\n    await rtsu_client.auth(TEST_DATA.get(\"login\"), TEST_DATA.get(\"password\"))\\n\\n    years = await rtsu_client.get_academic_years()\\n\\n    assert type(years) == list\\n    assert len(years) > 0\\n\\n\\n@pytest.mark.asyncio\\nasync def test_rtsu_academic_year_subjects_fetching(rtsu_client: RTSUApi):\\n    \"\"\"\\n    Tests rtsu academic year fetching\\n    :param rtsu_client:\\n    :return:\\n    \"\"\"\\n\\n    await rtsu_client.auth(TEST_DATA.get(\"login\"), TEST_DATA.get(\"password\"))\\n\\n    ac_years = await rtsu_client.get_academic_years()\\n    year = ac_years[0].id\\n    years = await rtsu_client.get_academic_year_subjects(year)\\n\\n    assert type(years) == list\\n    assert len(years) > 0']\n"
     ]
    }
   ],
   "source": [
    "data = []\n",
    "\n",
    "with open(tsv_path, 'r') as f:\n",
    "    reader = csv.reader(f, delimiter='\\t')\n",
    "    for row in reader:\n",
    "        data.append(row)\n",
    "\n",
    "print(data[1]) # data[0] will be the header"
   ]
  },
  {
   "attachments": {},
   "cell_type": "markdown",
   "metadata": {},
   "source": [
    "# Load in Adjudicated labels"
   ]
  },
  {
   "cell_type": "code",
   "execution_count": 35,
   "metadata": {},
   "outputs": [
    {
     "data": {
      "text/plain": [
       "500"
      ]
     },
     "execution_count": 35,
     "metadata": {},
     "output_type": "execute_result"
    }
   ],
   "source": [
    "adjudicated_labels = {}\n",
    "\n",
    "with open(\"./data/adjudicated_labels.txt\", \"r\") as f:\n",
    "    lines = f.readlines()\n",
    "\n",
    "for line in lines:\n",
    "    id, label = line.split()\n",
    "    adjudicated_labels[id] = label\n",
    "\n",
    "len(adjudicated_labels)"
   ]
  },
  {
   "attachments": {},
   "cell_type": "markdown",
   "metadata": {},
   "source": [
    "# Make `adjudicated.txt`"
   ]
  },
  {
   "cell_type": "code",
   "execution_count": 36,
   "metadata": {},
   "outputs": [],
   "source": [
    "import os\n",
    "import csv\n",
    "\n",
    "data_folder_path = './data/final_data/'\n",
    "tsv_path = './deliverables/adjudicated.txt'\n",
    "table = []\n",
    "\n",
    "for filename in os.listdir(data_folder_path):\n",
    "    if filename == \".DS_Store\":\n",
    "        continue\n",
    "    if os.path.isfile(os.path.join(data_folder_path, filename)):\n",
    "        # print(filename)\n",
    "        file_id = str(int(filename.split(\".\")[0]))\n",
    "        with open(data_folder_path + filename, \"r\") as f:\n",
    "            file_content = f.read()\n",
    "        entry = [file_id, \"adjudicated\", adjudicated_labels[file_id], file_content]\n",
    "        table.append(entry)\n",
    "\n",
    "with open(tsv_path, 'w', newline='') as f:\n",
    "    writer = csv.writer(f, delimiter='\\t')\n",
    "    writer.writerows(table)"
   ]
  },
  {
   "attachments": {},
   "cell_type": "markdown",
   "metadata": {},
   "source": [
    "# Load in Evaluation Labels"
   ]
  },
  {
   "cell_type": "code",
   "execution_count": 37,
   "metadata": {},
   "outputs": [
    {
     "data": {
      "text/plain": [
       "250"
      ]
     },
     "execution_count": 37,
     "metadata": {},
     "output_type": "execute_result"
    }
   ],
   "source": [
    "evaluation_labels = {}\n",
    "\n",
    "with open(\"./data/evaluation_labels.txt\", \"r\") as f:\n",
    "    lines = f.readlines()\n",
    "\n",
    "for line in lines:\n",
    "    id, label1, label2 = line.split()\n",
    "    evaluation_labels[id] = (label1, label2)\n",
    "\n",
    "len(evaluation_labels)"
   ]
  },
  {
   "attachments": {},
   "cell_type": "markdown",
   "metadata": {},
   "source": [
    "# Make `individual_annotations.txt`"
   ]
  },
  {
   "cell_type": "code",
   "execution_count": 39,
   "metadata": {},
   "outputs": [],
   "source": [
    "import os\n",
    "import csv\n",
    "\n",
    "data_folder_path = './data/final_data/'\n",
    "tsv_path = './deliverables/individual_annotations.txt'\n",
    "table = []\n",
    "\n",
    "for filename in os.listdir(data_folder_path):\n",
    "    if filename == \".DS_Store\":\n",
    "        continue\n",
    "    if os.path.isfile(os.path.join(data_folder_path, filename)):\n",
    "        file_id = str(int(filename.split(\".\")[0]))\n",
    "        if file_id not in evaluation_labels:\n",
    "            continue\n",
    "        with open(data_folder_path + filename, \"r\") as f:\n",
    "            file_content = f.read()\n",
    "        entry1 = [file_id, \"jackson\", evaluation_labels[file_id][0], file_content]\n",
    "        entry2 = [file_id, \"donghui\", evaluation_labels[file_id][1], file_content]\n",
    "        table.append(entry1)\n",
    "        table.append(entry2)\n",
    "\n",
    "with open(tsv_path, 'w', newline='') as f:\n",
    "    writer = csv.writer(f, delimiter='\\t')\n",
    "    writer.writerows(table)"
   ]
  }
 ],
 "metadata": {
  "kernelspec": {
   "display_name": "info159ap",
   "language": "python",
   "name": "python3"
  },
  "language_info": {
   "codemirror_mode": {
    "name": "ipython",
    "version": 3
   },
   "file_extension": ".py",
   "mimetype": "text/x-python",
   "name": "python",
   "nbconvert_exporter": "python",
   "pygments_lexer": "ipython3",
   "version": "3.9.16"
  },
  "orig_nbformat": 4
 },
 "nbformat": 4,
 "nbformat_minor": 2
}
