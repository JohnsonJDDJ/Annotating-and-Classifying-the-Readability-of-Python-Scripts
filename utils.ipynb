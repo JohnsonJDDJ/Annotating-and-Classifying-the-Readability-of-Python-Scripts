{
 "cells": [
  {
   "attachments": {},
   "cell_type": "markdown",
   "metadata": {},
   "source": [
    "# Rename ALL crawled files by adding PREFIX to the filename"
   ]
  },
  {
   "cell_type": "code",
   "execution_count": 11,
   "metadata": {},
   "outputs": [],
   "source": [
    "PREFIX = \"JY\"\n",
    "\n",
    "import os\n",
    "\n",
    "folder_path = './data/raw_data/'\n",
    "\n",
    "for filename in os.listdir(folder_path):\n",
    "    if os.path.isfile(os.path.join(folder_path, filename)):\n",
    "\n",
    "        # Check if the file already starts with PREFIX\n",
    "        if filename[:len(PREFIX)] == PREFIX:\n",
    "            continue\n",
    "\n",
    "        new_filename = PREFIX + filename\n",
    "        os.rename(os.path.join(folder_path, filename), os.path.join(folder_path, new_filename))"
   ]
  },
  {
   "attachments": {},
   "cell_type": "markdown",
   "metadata": {},
   "source": [
    "# Load in all data and make a .tsv file"
   ]
  },
  {
   "cell_type": "code",
   "execution_count": 18,
   "metadata": {},
   "outputs": [],
   "source": [
    "import os\n",
    "import csv\n",
    "\n",
    "data_folder_path = './data/raw_data/'\n",
    "tsv_path = './data/dirty_data.tsv'\n",
    "table = []\n",
    "\n",
    "for filename in os.listdir(data_folder_path):\n",
    "    if os.path.isfile(os.path.join(data_folder_path, filename)):\n",
    "        entry = {}\n",
    "        file_id = filename.split(\"-\")[0]\n",
    "        with open(data_folder_path + filename, \"r\") as f:\n",
    "            content = f.read()\n",
    "        entry = {\n",
    "            \"id\" : file_id,\n",
    "            \"filename\" : filename,\n",
    "            \"content\" : content\n",
    "        }\n",
    "        table.append(entry)\n",
    "\n",
    "fieldnames = table[0].keys()\n",
    "with open(tsv_path, 'w', newline='') as f:\n",
    "    writer = csv.DictWriter(f, delimiter='\\t', fieldnames=fieldnames)\n",
    "    writer.writeheader()\n",
    "    writer.writerows(table)"
   ]
  },
  {
   "attachments": {},
   "cell_type": "markdown",
   "metadata": {},
   "source": [
    "## Read back the data to test implementation"
   ]
  },
  {
   "cell_type": "code",
   "execution_count": 23,
   "metadata": {},
   "outputs": [
    {
     "name": "stdout",
     "output_type": "stream",
     "text": [
      "['JY321', 'JY321-rstu_api_test.py', 'import pytest\\nimport pytest_asyncio\\n\\nfrom rtsu_students_bot.rtsu import RTSUApi\\n\\npytest_plugins = (\\'pytest_asyncio\\',)\\n\\nTEST_DATA = {\\n    \"login\": \"your login\",\\n    \"password\": \"your pass\",\\n}\\n\\n\\n@pytest_asyncio.fixture()\\nasync def rtsu_client():\\n    \"\"\"\\n    Initializes client\\n    :return: Prepared `RTSUApi` client\\n    \"\"\"\\n\\n    async with RTSUApi() as api:\\n        yield api\\n\\n\\n@pytest.mark.asyncio\\nasync def test_rtsu_login(rtsu_client: RTSUApi):\\n    \"\"\"\\n    Tests rtsu login\\n    :param rtsu_client: A RTSU API client\\n    :return:\\n    \"\"\"\\n\\n    resp = await rtsu_client.auth(TEST_DATA.get(\"login\"), TEST_DATA.get(\"password\"))\\n\\n    assert resp.token is not None\\n\\n\\n@pytest.mark.asyncio\\nasync def test_rtsu_profile_fetching(rtsu_client: RTSUApi):\\n    \"\"\"\\n    Tests rtsu profile fetching\\n    :param rtsu_client:\\n    :return:\\n    \"\"\"\\n\\n    await rtsu_client.auth(TEST_DATA.get(\"login\"), TEST_DATA.get(\"password\"))\\n\\n    profile = await rtsu_client.get_profile()\\n\\n    assert profile is not None\\n    assert profile.full_name is not None\\n\\n\\n@pytest.mark.asyncio\\nasync def test_rtsu_academic_years_fetching(rtsu_client: RTSUApi):\\n    \"\"\"\\n    Tests rtsu academic years fetching\\n    :param rtsu_client:\\n    :return:\\n    \"\"\"\\n\\n    await rtsu_client.auth(TEST_DATA.get(\"login\"), TEST_DATA.get(\"password\"))\\n\\n    years = await rtsu_client.get_academic_years()\\n\\n    assert type(years) == list\\n    assert len(years) > 0\\n\\n\\n@pytest.mark.asyncio\\nasync def test_rtsu_academic_year_subjects_fetching(rtsu_client: RTSUApi):\\n    \"\"\"\\n    Tests rtsu academic year fetching\\n    :param rtsu_client:\\n    :return:\\n    \"\"\"\\n\\n    await rtsu_client.auth(TEST_DATA.get(\"login\"), TEST_DATA.get(\"password\"))\\n\\n    ac_years = await rtsu_client.get_academic_years()\\n    year = ac_years[0].id\\n    years = await rtsu_client.get_academic_year_subjects(year)\\n\\n    assert type(years) == list\\n    assert len(years) > 0']\n"
     ]
    }
   ],
   "source": [
    "data = []\n",
    "\n",
    "with open(tsv_path, 'r') as f:\n",
    "    reader = csv.reader(f, delimiter='\\t')\n",
    "    for row in reader:\n",
    "        data.append(row)\n",
    "\n",
    "print(data[1]) # data[0] will be the header"
   ]
  }
 ],
 "metadata": {
  "kernelspec": {
   "display_name": "info159ap",
   "language": "python",
   "name": "python3"
  },
  "language_info": {
   "codemirror_mode": {
    "name": "ipython",
    "version": 3
   },
   "file_extension": ".py",
   "mimetype": "text/x-python",
   "name": "python",
   "nbconvert_exporter": "python",
   "pygments_lexer": "ipython3",
   "version": "3.9.16"
  },
  "orig_nbformat": 4
 },
 "nbformat": 4,
 "nbformat_minor": 2
}
