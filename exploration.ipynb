{
 "cells": [
  {
   "cell_type": "code",
   "execution_count": 5,
   "metadata": {},
   "outputs": [
    {
     "data": {
      "text/plain": [
       "'import streamlit as st\\nfrom streamlit_plotly_events import plotly_events\\nimport numpy as np\\nimport plotly.graph_objects as go\\nfrom plotly import subplots\\nimport os, sys\\nimport pandas as pd\\nimport os\\nfrom PIL import Image\\n\\ncptpath = os.getcwd()+r\\'/asl\\'\\nsys.path.append(cptpath)\\nimport asl\\n\\ndef rms(y):\\n    N = len(y)\\n    y = np.array(y)\\n    y -= np.nanmean(y)\\n    rms = np.sqrt(np.sum(y**2) / N)\\n    return rms\\n\\n\\n@st.cache_data(persist=\"disk\")\\ndef make_ustation_list():\\n    lst = []\\n    return lst\\n\\ncolors = [\\'#F75C2F\\', \\'#2EA9DF\\', \\'#7BA23F\\', \\'blue\\', \\'green\\', \\'orange\\', \\'red\\']\\n\\nstation_list = [\\'N.ASIV\\', \\'N.ASHV\\', \\'N.ASNV\\', \\'N.ASTV\\',  \\'V.ASOB\\', \\'V.ASO2\\', \\'V.ASOC\\']\\n\\nst.header(\\'select stations\\')\\nimage = Image.open(\\'map/img/map.png\\')\\nst.image(image, width=400)\\n\\ncol = st.columns(4)\\nASIV = col[0].checkbox(label=station_list[0])\\nASHV = col[1].checkbox(label=station_list[1])\\nASNV = col[2].checkbox(label=station_list[2])\\nASTV = col[3].checkbox(label=station_list[3])\\n\\ncol = st.columns(4)\\nASOB = col[0].checkbox(label=station_list[4])\\nASO2 = col[1].checkbox(label=station_list[5])\\nASOC = col[2].checkbox(label=station_list[6])\\n\\nused_station_list = []; used_station_list_idx = []\\nif ASIV:\\n    used_station_list.append(station_list[0])\\n    used_station_list_idx.append(0)\\nif ASHV:\\n    used_station_list.append(station_list[1])\\n    used_station_list_idx.append(1)\\nif ASNV:\\n    used_station_list.append(station_list[2])\\n    used_station_list_idx.append(2)\\nif ASTV:\\n    used_station_list.append(station_list[3])\\n    used_station_list_idx.append(3)\\nif ASOB:\\n    used_station_list.append(station_list[4])\\n    used_station_list_idx.append(4)\\nif ASO2:\\n    used_station_list.append(station_list[5])\\n    used_station_list_idx.append(5)\\nif ASOC:\\n    used_station_list.append(station_list[6])\\n    used_station_list_idx.append(6)\\n\\nif st.button(label=\\'save stations\\'):\\n    \\n    ustation_list = make_ustation_list()\\n    for i in used_station_list:\\n        ustation_list.append(i)\\n\\n    st.session_state[\\'ustations\\'] = ustation_list\\n\\n    st.write(\\'saved\\')\\n    #st.write(ustation_list)'"
      ]
     },
     "execution_count": 5,
     "metadata": {},
     "output_type": "execute_result"
    }
   ],
   "source": [
    "# Rename ALL crawled files by adding PREFIX to the filename\n",
    "\n",
    "PREFIX = \"JD\"\n",
    "\n",
    "import os\n",
    "\n",
    "folder_path = './data/'\n",
    "\n",
    "for filename in os.listdir(folder_path):\n",
    "    if os.path.isfile(os.path.join(folder_path, filename)):\n",
    "        \n",
    "        # Check if the file already starts with PREFIX\n",
    "        if filename[:len(PREFIX)] == PREFIX:\n",
    "            continue\n",
    "\n",
    "        new_filename = PREFIX + filename\n",
    "        os.rename(os.path.join(folder_path, filename), os.path.join(folder_path, new_filename))"
   ]
  }
 ],
 "metadata": {
  "kernelspec": {
   "display_name": "info159ap",
   "language": "python",
   "name": "python3"
  },
  "language_info": {
   "codemirror_mode": {
    "name": "ipython",
    "version": 3
   },
   "file_extension": ".py",
   "mimetype": "text/x-python",
   "name": "python",
   "nbconvert_exporter": "python",
   "pygments_lexer": "ipython3",
   "version": "3.9.16"
  },
  "orig_nbformat": 4
 },
 "nbformat": 4,
 "nbformat_minor": 2
}
