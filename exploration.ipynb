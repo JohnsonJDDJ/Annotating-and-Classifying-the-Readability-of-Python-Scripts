{
 "cells": [
  {
   "cell_type": "code",
   "execution_count": 10,
   "metadata": {},
   "outputs": [],
   "source": [
    "# Rename ALL crawled files by adding PREFIX to the filename\n",
    "\n",
    "PREFIX = \"JY\"\n",
    "\n",
    "import os\n",
    "\n",
    "folder_path = './data_JY/'\n",
    "\n",
    "for filename in os.listdir(folder_path):\n",
    "    if os.path.isfile(os.path.join(folder_path, filename)):\n",
    "\n",
    "        # Check if the file already starts with PREFIX\n",
    "        if filename[:len(PREFIX)] == PREFIX:\n",
    "            continue\n",
    "\n",
    "        new_filename = PREFIX + filename\n",
    "        os.rename(os.path.join(folder_path, filename), os.path.join(folder_path, new_filename))"
   ]
  }
 ],
 "metadata": {
  "kernelspec": {
   "display_name": "info159ap",
   "language": "python",
   "name": "python3"
  },
  "language_info": {
   "codemirror_mode": {
    "name": "ipython",
    "version": 3
   },
   "file_extension": ".py",
   "mimetype": "text/x-python",
   "name": "python",
   "nbconvert_exporter": "python",
   "pygments_lexer": "ipython3",
   "version": "3.9.16"
  },
  "orig_nbformat": 4
 },
 "nbformat": 4,
 "nbformat_minor": 2
}
